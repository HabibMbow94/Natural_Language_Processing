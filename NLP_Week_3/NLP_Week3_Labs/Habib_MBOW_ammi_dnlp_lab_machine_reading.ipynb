{
  "cells": [
    {
      "cell_type": "markdown",
      "metadata": {
        "id": "uzAMazBhyO7O"
      },
      "source": [
        "# AMMI Deep Natural Language Processing: Lab 1"
      ]
    },
    {
      "cell_type": "markdown",
      "metadata": {
        "id": "z2oBLu8PyV1V"
      },
      "source": [
        "## 0. Introduction"
      ]
    },
    {
      "cell_type": "markdown",
      "metadata": {
        "id": "NHed26lWcGwQ"
      },
      "source": [
        "**All questions should be answered in the separate google form to be graded.**\n",
        "\n",
        "\n",
        "In this lab we will train neural networks on the bAbI tasks using ParlAI framework.  \n",
        "This lab can be run both in google colab or on your computer.   \n",
        "\n",
        "We will cover the following:\n",
        "0. Introduction\n",
        "    - Introduction to ParlAI and installation\n",
        "    - Introduction to the bAbI tasks\n",
        "1. Exploring the data:\n",
        "    - Compute some statistics (number of examples in train, valid, test, size of examples...)\n",
        "    - Look at some examples\n",
        "2. Choose the appropriate metrics\n",
        "3. Baselines\n",
        "    - Ranom baseline\n",
        "    - Majority class baseline\n",
        "    - Information retrieval baseline\n",
        "4. More elaborate models\n",
        "   - Generative model: Seq2Seq\n",
        "   - Ranking model: Memory Network\n",
        "5. To go further\n",
        "    - Additional ideas to try if you want to dig deeper\n",
        "\n",
        "### ParlAI\n",
        "[ParlAI](https://github.com/facebookresearch/ParlAI/blob/master/README.md) (pronounced “par-lay”) is a framework for dialogue AI research, implemented in Python.\n",
        "\n",
        "Its goal is to provide researchers:\n",
        "\n",
        "* a unified framework for sharing, training and testing dialogue models\n",
        "* many popular datasets available all in one place -- from open-domain chitchat to visual question answering.\n",
        "* a wide set of reference models -- from retrieval baselines to Transformers.\n",
        "* seamless integration of Amazon Mechanical Turk for data collection and human evaluation\n",
        "* integration with Facebook Messenger to connect agents with humans in a chat interface\n",
        "\n",
        "Documentation can be found [here](http://www.parl.ai/static/docs/), some of this tutorial is inspired from the ParlAI documentation so feel free to go back and forth between the notebook and the documentation.\n",
        "\n",
        "\n",
        "### Setup the notebook\n",
        "If using google colab, make sure to use TPU runtime by going to ***Runtime > Change runtime type > Hardware accelerator: TPU > Save***"
      ]
    },
    {
      "cell_type": "markdown",
      "metadata": {
        "id": "-k8BZE3HJaut"
      },
      "source": [
        "### Install ParlAI\n",
        "\n",
        "Start by installing ParlAI from github. The ParlAI folder will be located in the home directory at `~/ParlAI/`.  \n",
        "*Note: In a jupyter notebook, you can run arbitrary bash commands by prefixing them with a question mark, example: `!echo \"Hello World\"`*"
      ]
    },
    {
      "cell_type": "code",
      "execution_count": 1,
      "metadata": {
        "colab": {
          "base_uri": "https://localhost:8080/"
        },
        "id": "l8V7QcnMI7Wk",
        "outputId": "3665ae1e-0a5c-4fcc-acdd-54852b7269bc"
      },
      "outputs": [
        {
          "name": "stdout",
          "output_type": "stream",
          "text": [
            "Cloning into '/Users/habibmbow/ParlAI'...\n",
            "remote: Enumerating objects: 46750, done.\u001b[K\n",
            "remote: Counting objects: 100% (654/654), done.\u001b[K\n",
            "remote: Compressing objects: 100% (286/286), done.\u001b[K\n",
            "remote: Total 46750 (delta 389), reused 586 (delta 347), pack-reused 46096\u001b[K\n",
            "Receiving objects: 100% (46750/46750), 140.89 MiB | 472.00 KiB/s, done.\n",
            "Resolving deltas: 100% (33194/33194), done.\n",
            "Note: switching to '6bd0e58692b3fd3a13b5f654944525ac1b7cd8e3'.\n",
            "\n",
            "You are in 'detached HEAD' state. You can look around, make experimental\n",
            "changes and commit them, and you can discard any commits you make in this\n",
            "state without impacting any branches by switching back to a branch.\n",
            "\n",
            "If you want to create a new branch to retain commits you create, you may\n",
            "do so (now or later) by using -c with the switch command. Example:\n",
            "\n",
            "  git switch -c <new-branch-name>\n",
            "\n",
            "Or undo this operation with:\n",
            "\n",
            "  git switch -\n",
            "\n",
            "Turn off this advice by setting config variable advice.detachedHead to false\n",
            "\n",
            "HEAD is now at 6bd0e586 light paper link on webpage! (#1536)\n",
            "running develop\n",
            "/Users/habibmbow/opt/anaconda3/envs/torch-nightly/lib/python3.8/site-packages/setuptools/command/easy_install.py:144: EasyInstallDeprecationWarning: easy_install command is deprecated. Use build and pip and other standards-based tools.\n",
            "  warnings.warn(\n",
            "/Users/habibmbow/opt/anaconda3/envs/torch-nightly/lib/python3.8/site-packages/setuptools/command/install.py:34: SetuptoolsDeprecationWarning: setup.py install is deprecated. Use build and pip and other standards-based tools.\n",
            "  warnings.warn(\n",
            "running egg_info\n",
            "creating parlai.egg-info\n",
            "writing parlai.egg-info/PKG-INFO\n",
            "writing dependency_links to parlai.egg-info/dependency_links.txt\n",
            "writing requirements to parlai.egg-info/requires.txt\n",
            "writing top-level names to parlai.egg-info/top_level.txt\n",
            "writing manifest file 'parlai.egg-info/SOURCES.txt'\n",
            "reading manifest file 'parlai.egg-info/SOURCES.txt'\n",
            "reading manifest template 'MANIFEST.in'\n",
            "adding license file 'LICENSE'\n",
            "writing manifest file 'parlai.egg-info/SOURCES.txt'\n",
            "running build_ext\n",
            "Creating /Users/habibmbow/opt/anaconda3/envs/torch-nightly/lib/python3.8/site-packages/parlai.egg-link (link to .)\n",
            "Adding parlai 0.1.0 to easy-install.pth file\n",
            "\n",
            "Installed /Users/habibmbow/ParlAI\n",
            "Processing dependencies for parlai==0.1.0\n",
            "Searching for websocket_server\n",
            "Reading https://pypi.org/simple/websocket_server/\n",
            "/Users/habibmbow/opt/anaconda3/envs/torch-nightly/lib/python3.8/site-packages/pkg_resources/__init__.py:123: PkgResourcesDeprecationWarning:  is an invalid version and will not be supported in a future release\n",
            "  warnings.warn(\n",
            "Downloading https://files.pythonhosted.org/packages/8e/9e/510086a9ed0dee3830da838f9207f5c787487813d5eb74eb19fe306e6a3e/websocket_server-0.6.4-py3-none-any.whl#sha256=aca2d8f7569c82fe3e949cbae1f9d3f3035ae15f1d4048085431c94b7dfd35be\n",
            "Best match: websocket-server 0.6.4\n",
            "Processing websocket_server-0.6.4-py3-none-any.whl\n",
            "Installing websocket_server-0.6.4-py3-none-any.whl to /Users/habibmbow/opt/anaconda3/envs/torch-nightly/lib/python3.8/site-packages\n",
            "Adding websocket-server 0.6.4 to easy-install.pth file\n",
            "\n",
            "Installed /Users/habibmbow/opt/anaconda3/envs/torch-nightly/lib/python3.8/site-packages/websocket_server-0.6.4-py3.8.egg\n",
            "Searching for websocket\n",
            "Reading https://pypi.org/simple/websocket/\n",
            "Downloading https://files.pythonhosted.org/packages/f2/6d/a60d620ea575c885510c574909d2e3ed62129b121fa2df00ca1c81024c87/websocket-0.2.1.tar.gz#sha256=42b506fae914ac5ed654e23ba9742e6a342b1a1c3eb92632b6166c65256469a4\n",
            "Best match: websocket 0.2.1\n",
            "Processing websocket-0.2.1.tar.gz\n",
            "Writing /var/folders/d3/5nbyn1mn76d616kqs6f5t83m0000gn/T/easy_install-z49jbyqn/websocket-0.2.1/setup.cfg\n",
            "Running websocket-0.2.1/setup.py -q bdist_egg --dist-dir /var/folders/d3/5nbyn1mn76d616kqs6f5t83m0000gn/T/easy_install-z49jbyqn/websocket-0.2.1/egg-dist-tmp-vibvw076\n",
            "/Users/habibmbow/opt/anaconda3/envs/torch-nightly/lib/python3.8/site-packages/setuptools/command/install.py:34: SetuptoolsDeprecationWarning: setup.py install is deprecated. Use build and pip and other standards-based tools.\n",
            "  warnings.warn(\n",
            "  File \"build/bdist.macosx-10.9-x86_64/egg/websocket/policyserver.py\", line 21\n",
            "    print 'Accepted connection from %s:%s' % address\n",
            "          ^\n",
            "SyntaxError: Missing parentheses in call to 'print'. Did you mean print('Accepted connection from %s:%s' % address)?\n",
            "\n",
            "  File \"build/bdist.macosx-10.9-x86_64/egg/websocket/server.py\", line 57\n",
            "    except IOError, ex:\n",
            "                  ^\n",
            "SyntaxError: invalid syntax\n",
            "\n",
            "creating /Users/habibmbow/opt/anaconda3/envs/torch-nightly/lib/python3.8/site-packages/websocket-0.2.1-py3.8.egg\n",
            "Extracting websocket-0.2.1-py3.8.egg to /Users/habibmbow/opt/anaconda3/envs/torch-nightly/lib/python3.8/site-packages\n",
            "  File \"/Users/habibmbow/opt/anaconda3/envs/torch-nightly/lib/python3.8/site-packages/websocket-0.2.1-py3.8.egg/websocket/policyserver.py\", line 21\n",
            "    print 'Accepted connection from %s:%s' % address\n",
            "          ^\n",
            "SyntaxError: Missing parentheses in call to 'print'. Did you mean print('Accepted connection from %s:%s' % address)?\n",
            "\n",
            "  File \"/Users/habibmbow/opt/anaconda3/envs/torch-nightly/lib/python3.8/site-packages/websocket-0.2.1-py3.8.egg/websocket/server.py\", line 57\n",
            "    except IOError, ex:\n",
            "                  ^\n",
            "SyntaxError: invalid syntax\n",
            "\n",
            "Adding websocket 0.2.1 to easy-install.pth file\n",
            "\n",
            "Installed /Users/habibmbow/opt/anaconda3/envs/torch-nightly/lib/python3.8/site-packages/websocket-0.2.1-py3.8.egg\n",
            "Searching for sphinx_rtd_theme\n",
            "Reading https://pypi.org/simple/sphinx_rtd_theme/\n",
            "/Users/habibmbow/opt/anaconda3/envs/torch-nightly/lib/python3.8/site-packages/pkg_resources/__init__.py:123: PkgResourcesDeprecationWarning:  is an invalid version and will not be supported in a future release\n",
            "  warnings.warn(\n",
            "Downloading https://files.pythonhosted.org/packages/e0/d2/3818e4730e314719e27f639c44164419e40eed826d63753dc480262036e8/sphinx_rtd_theme-1.0.0-py2.py3-none-any.whl#sha256=4d35a56f4508cfee4c4fb604373ede6feae2a306731d533f409ef5c3496fdbd8\n",
            "Best match: sphinx-rtd-theme 1.0.0\n",
            "Processing sphinx_rtd_theme-1.0.0-py2.py3-none-any.whl\n",
            "Installing sphinx_rtd_theme-1.0.0-py2.py3-none-any.whl to /Users/habibmbow/opt/anaconda3/envs/torch-nightly/lib/python3.8/site-packages\n",
            "Adding sphinx-rtd-theme 1.0.0 to easy-install.pth file\n",
            "\n",
            "Installed /Users/habibmbow/opt/anaconda3/envs/torch-nightly/lib/python3.8/site-packages/sphinx_rtd_theme-1.0.0-py3.8.egg\n",
            "Searching for sphinx\n",
            "Reading https://pypi.org/simple/sphinx/\n",
            "Downloading https://files.pythonhosted.org/packages/83/74/318d8cd70cbde2164e3035f9e9ba0807e2de7d384e03784ad0afc98b891b/Sphinx-5.1.1-py3-none-any.whl#sha256=309a8da80cb6da9f4713438e5b55861877d5d7976b69d87e336733637ea12693\n",
            "Best match: Sphinx 5.1.1\n",
            "Processing Sphinx-5.1.1-py3-none-any.whl\n",
            "Installing Sphinx-5.1.1-py3-none-any.whl to /Users/habibmbow/opt/anaconda3/envs/torch-nightly/lib/python3.8/site-packages\n",
            "Adding Sphinx 5.1.1 to easy-install.pth file\n",
            "Installing sphinx-apidoc script to /Users/habibmbow/opt/anaconda3/envs/torch-nightly/bin\n",
            "Installing sphinx-autogen script to /Users/habibmbow/opt/anaconda3/envs/torch-nightly/bin\n",
            "Installing sphinx-build script to /Users/habibmbow/opt/anaconda3/envs/torch-nightly/bin\n",
            "Installing sphinx-quickstart script to /Users/habibmbow/opt/anaconda3/envs/torch-nightly/bin\n",
            "\n",
            "Installed /Users/habibmbow/opt/anaconda3/envs/torch-nightly/lib/python3.8/site-packages/Sphinx-5.1.1-py3.8.egg\n",
            "Searching for sh\n",
            "Reading https://pypi.org/simple/sh/\n",
            "/Users/habibmbow/opt/anaconda3/envs/torch-nightly/lib/python3.8/site-packages/pkg_resources/__init__.py:123: PkgResourcesDeprecationWarning: 0.106.linux-i686 is an invalid version and will not be supported in a future release\n",
            "  warnings.warn(\n",
            "/Users/habibmbow/opt/anaconda3/envs/torch-nightly/lib/python3.8/site-packages/pkg_resources/__init__.py:123: PkgResourcesDeprecationWarning: i686 is an invalid version and will not be supported in a future release\n",
            "  warnings.warn(\n",
            "Downloading https://files.pythonhosted.org/packages/b7/09/89c28aaf2a49f226fef8587c90c6386bd2cc03a0295bc4ff7fc6ee43c01d/sh-1.14.3.tar.gz#sha256=e4045b6c732d9ce75d571c79f5ac2234edd9ae4f5fa9d59b09705082bdca18c7\n",
            "Best match: sh 1.14.3\n",
            "Processing sh-1.14.3.tar.gz\n",
            "Writing /var/folders/d3/5nbyn1mn76d616kqs6f5t83m0000gn/T/easy_install-4oddm83y/sh-1.14.3/setup.cfg\n",
            "Running sh-1.14.3/setup.py -q bdist_egg --dist-dir /var/folders/d3/5nbyn1mn76d616kqs6f5t83m0000gn/T/easy_install-4oddm83y/sh-1.14.3/egg-dist-tmp-6n5ugy6e\n",
            "/Users/habibmbow/opt/anaconda3/envs/torch-nightly/lib/python3.8/site-packages/setuptools/config/setupcfg.py:508: SetuptoolsDeprecationWarning: The license_file parameter is deprecated, use license_files instead.\n",
            "  warnings.warn(msg, warning_class)\n",
            "warning: no previously-included files matching '*.pyc' found anywhere in distribution\n",
            "/Users/habibmbow/opt/anaconda3/envs/torch-nightly/lib/python3.8/site-packages/setuptools/command/install.py:34: SetuptoolsDeprecationWarning: setup.py install is deprecated. Use build and pip and other standards-based tools.\n",
            "  warnings.warn(\n",
            "zip_safe flag not set; analyzing archive contents...\n",
            "__pycache__.sh.cpython-38: module references __file__\n",
            "__pycache__.sh.cpython-38: module references __path__\n",
            "__pycache__.sh.cpython-38: module MAY be using inspect.stack\n",
            "creating /Users/habibmbow/opt/anaconda3/envs/torch-nightly/lib/python3.8/site-packages/sh-1.14.3-py3.8.egg\n",
            "Extracting sh-1.14.3-py3.8.egg to /Users/habibmbow/opt/anaconda3/envs/torch-nightly/lib/python3.8/site-packages\n",
            "Adding sh 1.14.3 to easy-install.pth file\n",
            "\n",
            "Installed /Users/habibmbow/opt/anaconda3/envs/torch-nightly/lib/python3.8/site-packages/sh-1.14.3-py3.8.egg\n",
            "Searching for gitpython\n",
            "Reading https://pypi.org/simple/gitpython/\n",
            "/Users/habibmbow/opt/anaconda3/envs/torch-nightly/lib/python3.8/site-packages/pkg_resources/__init__.py:123: PkgResourcesDeprecationWarning:  is an invalid version and will not be supported in a future release\n",
            "  warnings.warn(\n",
            "/Users/habibmbow/opt/anaconda3/envs/torch-nightly/lib/python3.8/site-packages/pkg_resources/__init__.py:123: PkgResourcesDeprecationWarning: beta1 is an invalid version and will not be supported in a future release\n",
            "  warnings.warn(\n",
            "/Users/habibmbow/opt/anaconda3/envs/torch-nightly/lib/python3.8/site-packages/pkg_resources/__init__.py:123: PkgResourcesDeprecationWarning: beta2 is an invalid version and will not be supported in a future release\n",
            "  warnings.warn(\n",
            "Downloading https://files.pythonhosted.org/packages/83/32/ce68915670da6fd6b1e3fb4b3554b4462512f6441dddd194fc0f4f6ec653/GitPython-3.1.27-py3-none-any.whl#sha256=5b68b000463593e05ff2b261acff0ff0972df8ab1b70d3cdbd41b546c8b8fc3d\n",
            "Best match: GitPython 3.1.27\n",
            "Processing GitPython-3.1.27-py3-none-any.whl\n",
            "Installing GitPython-3.1.27-py3-none-any.whl to /Users/habibmbow/opt/anaconda3/envs/torch-nightly/lib/python3.8/site-packages\n",
            "Adding GitPython 3.1.27 to easy-install.pth file\n",
            "\n",
            "Installed /Users/habibmbow/opt/anaconda3/envs/torch-nightly/lib/python3.8/site-packages/GitPython-3.1.27-py3.8.egg\n",
            "Searching for flake8\n",
            "Reading https://pypi.org/simple/flake8/\n",
            "Downloading https://files.pythonhosted.org/packages/cf/a0/b881b63a17a59d9d07f5c0cc91a29182c8e8a9aa2bde5b3b2b16519c02f4/flake8-5.0.4-py2.py3-none-any.whl#sha256=7a1cf6b73744f5806ab95e526f6f0d8c01c66d7bbe349562d22dfca20610b248\n",
            "Best match: flake8 5.0.4\n",
            "Processing flake8-5.0.4-py2.py3-none-any.whl\n",
            "Installing flake8-5.0.4-py2.py3-none-any.whl to /Users/habibmbow/opt/anaconda3/envs/torch-nightly/lib/python3.8/site-packages\n",
            "Adding flake8 5.0.4 to easy-install.pth file\n",
            "Installing flake8 script to /Users/habibmbow/opt/anaconda3/envs/torch-nightly/bin\n",
            "\n",
            "Installed /Users/habibmbow/opt/anaconda3/envs/torch-nightly/lib/python3.8/site-packages/flake8-5.0.4-py3.8.egg\n",
            "Searching for botocore\n",
            "Reading https://pypi.org/simple/botocore/\n",
            "Downloading https://files.pythonhosted.org/packages/f3/b3/fa6a4bc60f36d4a0c34c0a7eb429cfbde834567e4769bc5f3e68a49c6d01/botocore-1.27.65-py3-none-any.whl#sha256=2ba1494bc74e2e0e0915ee68e178f8511264daa30b96abb4240a17d47eeea894\n",
            "Best match: botocore 1.27.65\n",
            "Processing botocore-1.27.65-py3-none-any.whl\n",
            "Installing botocore-1.27.65-py3-none-any.whl to /Users/habibmbow/opt/anaconda3/envs/torch-nightly/lib/python3.8/site-packages\n",
            "Adding botocore 1.27.65 to easy-install.pth file\n",
            "\n",
            "Installed /Users/habibmbow/opt/anaconda3/envs/torch-nightly/lib/python3.8/site-packages/botocore-1.27.65-py3.8.egg\n",
            "Searching for boto3\n",
            "Reading https://pypi.org/simple/boto3/\n",
            "Downloading https://files.pythonhosted.org/packages/d3/20/cedc607ced7ee82d05d8755f2435066f6d3a348692cd54519290c4960b96/boto3-1.24.65-py3-none-any.whl#sha256=6bfa24a48ad49ee5f89b7a0572106d8009f892ef927556bdc663230bfa11d05f\n",
            "Best match: boto3 1.24.65\n",
            "Processing boto3-1.24.65-py3-none-any.whl\n",
            "Installing boto3-1.24.65-py3-none-any.whl to /Users/habibmbow/opt/anaconda3/envs/torch-nightly/lib/python3.8/site-packages\n",
            "Adding boto3 1.24.65 to easy-install.pth file\n",
            "\n",
            "Installed /Users/habibmbow/opt/anaconda3/envs/torch-nightly/lib/python3.8/site-packages/boto3-1.24.65-py3.8.egg\n",
            "Searching for greenlet\n",
            "Reading https://pypi.org/simple/greenlet/\n",
            "Downloading https://files.pythonhosted.org/packages/c6/76/fe65d38054ed763fc352500e84082250bc14ed0d9e58cabfbd5df7b7a99c/greenlet-2.0.0a2-cp38-cp38-macosx_10_14_x86_64.whl#sha256=eb6a385f8577d30e4cb43dd555fb134ddaae1edeb84205e09dabec332bf49fd0\n",
            "Best match: greenlet 2.0.0a2\n",
            "Processing greenlet-2.0.0a2-cp38-cp38-macosx_10_14_x86_64.whl\n",
            "Installing greenlet-2.0.0a2-cp38-cp38-macosx_10_14_x86_64.whl to /Users/habibmbow/opt/anaconda3/envs/torch-nightly/lib/python3.8/site-packages\n",
            "Adding greenlet 2.0.0a2 to easy-install.pth file\n",
            "\n",
            "Installed /Users/habibmbow/opt/anaconda3/envs/torch-nightly/lib/python3.8/site-packages/greenlet-2.0.0a2-py3.8-macosx-10.9-x86_64.egg\n",
            "Searching for gevent\n",
            "Reading https://pypi.org/simple/gevent/\n",
            "Downloading https://files.pythonhosted.org/packages/a0/d4/f6623fb3cc772bad5f7a75c4e24af884104a2be07699cb76a49958ef3260/gevent-21.12.0-cp38-cp38-macosx_10_14_x86_64.whl#sha256=3baeeccc4791ba3f8db27179dff11855a8f9210ddd754f6c9b48e0d2561c2aea\n",
            "Best match: gevent 21.12.0\n",
            "Processing gevent-21.12.0-cp38-cp38-macosx_10_14_x86_64.whl\n",
            "Installing gevent-21.12.0-cp38-cp38-macosx_10_14_x86_64.whl to /Users/habibmbow/opt/anaconda3/envs/torch-nightly/lib/python3.8/site-packages\n",
            "Adding gevent 21.12.0 to easy-install.pth file\n",
            "\n",
            "Installed /Users/habibmbow/opt/anaconda3/envs/torch-nightly/lib/python3.8/site-packages/gevent-21.12.0-py3.8-macosx-10.9-x86_64.egg\n",
            "Searching for docutils<0.18\n",
            "Reading https://pypi.org/simple/docutils/\n",
            "/Users/habibmbow/opt/anaconda3/envs/torch-nightly/lib/python3.8/site-packages/pkg_resources/__init__.py:123: PkgResourcesDeprecationWarning: post1 is an invalid version and will not be supported in a future release\n",
            "  warnings.warn(\n",
            "Downloading https://files.pythonhosted.org/packages/4c/5e/6003a0d1f37725ec2ebd4046b657abb9372202655f96e76795dca8c0063c/docutils-0.17.1-py2.py3-none-any.whl#sha256=cf316c8370a737a022b72b56874f6602acf974a37a9fba42ec2876387549fc61\n",
            "Best match: docutils 0.17.1\n",
            "Processing docutils-0.17.1-py2.py3-none-any.whl\n",
            "Installing docutils-0.17.1-py2.py3-none-any.whl to /Users/habibmbow/opt/anaconda3/envs/torch-nightly/lib/python3.8/site-packages\n",
            "Adding docutils 0.17.1 to easy-install.pth file\n",
            "Installing rst2xetex.py script to /Users/habibmbow/opt/anaconda3/envs/torch-nightly/bin\n",
            "Installing rst2latex.py script to /Users/habibmbow/opt/anaconda3/envs/torch-nightly/bin\n",
            "Installing rst2odt_prepstyles.py script to /Users/habibmbow/opt/anaconda3/envs/torch-nightly/bin\n",
            "Installing rst2html4.py script to /Users/habibmbow/opt/anaconda3/envs/torch-nightly/bin\n",
            "Installing rst2html5.py script to /Users/habibmbow/opt/anaconda3/envs/torch-nightly/bin\n",
            "Installing rst2xml.py script to /Users/habibmbow/opt/anaconda3/envs/torch-nightly/bin\n",
            "Installing rst2odt.py script to /Users/habibmbow/opt/anaconda3/envs/torch-nightly/bin\n",
            "Installing rst2pseudoxml.py script to /Users/habibmbow/opt/anaconda3/envs/torch-nightly/bin\n",
            "Installing rst2s5.py script to /Users/habibmbow/opt/anaconda3/envs/torch-nightly/bin\n",
            "Installing rst2html.py script to /Users/habibmbow/opt/anaconda3/envs/torch-nightly/bin\n",
            "Installing rst2man.py script to /Users/habibmbow/opt/anaconda3/envs/torch-nightly/bin\n",
            "Installing rstpep2html.py script to /Users/habibmbow/opt/anaconda3/envs/torch-nightly/bin\n",
            "\n",
            "Installed /Users/habibmbow/opt/anaconda3/envs/torch-nightly/lib/python3.8/site-packages/docutils-0.17.1-py3.8.egg\n",
            "Searching for imagesize\n",
            "Reading https://pypi.org/simple/imagesize/\n",
            "Downloading https://files.pythonhosted.org/packages/ff/62/85c4c919272577931d407be5ba5d71c20f0b616d31a0befe0ae45bb79abd/imagesize-1.4.1-py2.py3-none-any.whl#sha256=0d8d18d08f840c19d0ee7ca1fd82490fdc3729b7ac93f49870406ddde8ef8d8b\n",
            "Best match: imagesize 1.4.1\n",
            "Processing imagesize-1.4.1-py2.py3-none-any.whl\n",
            "Installing imagesize-1.4.1-py2.py3-none-any.whl to /Users/habibmbow/opt/anaconda3/envs/torch-nightly/lib/python3.8/site-packages\n",
            "Adding imagesize 1.4.1 to easy-install.pth file\n",
            "\n",
            "Installed /Users/habibmbow/opt/anaconda3/envs/torch-nightly/lib/python3.8/site-packages/imagesize-1.4.1-py3.8.egg\n",
            "Searching for alabaster<0.8,>=0.7\n",
            "Reading https://pypi.org/simple/alabaster/\n",
            "Downloading https://files.pythonhosted.org/packages/10/ad/00b090d23a222943eb0eda509720a404f531a439e803f6538f35136cae9e/alabaster-0.7.12-py2.py3-none-any.whl#sha256=446438bdcca0e05bd45ea2de1668c1d9b032e1a9154c2c259092d77031ddd359\n",
            "Best match: alabaster 0.7.12\n",
            "Processing alabaster-0.7.12-py2.py3-none-any.whl\n",
            "Installing alabaster-0.7.12-py2.py3-none-any.whl to /Users/habibmbow/opt/anaconda3/envs/torch-nightly/lib/python3.8/site-packages\n",
            "Adding alabaster 0.7.12 to easy-install.pth file\n",
            "\n",
            "Installed /Users/habibmbow/opt/anaconda3/envs/torch-nightly/lib/python3.8/site-packages/alabaster-0.7.12-py3.8.egg\n",
            "Searching for babel>=1.3\n",
            "Reading https://pypi.org/simple/babel/\n",
            "Downloading https://files.pythonhosted.org/packages/2e/57/a4177e24f8ed700c037e1eca7620097fdfbb1c9b358601e40169adf6d364/Babel-2.10.3-py3-none-any.whl#sha256=ff56f4892c1c4bf0d814575ea23471c230d544203c7748e8c68f0089478d48eb\n",
            "Best match: Babel 2.10.3\n",
            "Processing Babel-2.10.3-py3-none-any.whl\n",
            "Installing Babel-2.10.3-py3-none-any.whl to /Users/habibmbow/opt/anaconda3/envs/torch-nightly/lib/python3.8/site-packages\n",
            "Adding Babel 2.10.3 to easy-install.pth file\n",
            "Installing pybabel script to /Users/habibmbow/opt/anaconda3/envs/torch-nightly/bin\n",
            "\n",
            "Installed /Users/habibmbow/opt/anaconda3/envs/torch-nightly/lib/python3.8/site-packages/Babel-2.10.3-py3.8.egg\n",
            "Searching for snowballstemmer>=1.1\n",
            "Reading https://pypi.org/simple/snowballstemmer/\n",
            "Downloading https://files.pythonhosted.org/packages/ed/dc/c02e01294f7265e63a7315fe086dd1df7dacb9f840a804da846b96d01b96/snowballstemmer-2.2.0-py2.py3-none-any.whl#sha256=c8e1716e83cc398ae16824e5572ae04e0d9fc2c6b985fb0f900f5f0c96ecba1a\n",
            "Best match: snowballstemmer 2.2.0\n",
            "Processing snowballstemmer-2.2.0-py2.py3-none-any.whl\n",
            "Installing snowballstemmer-2.2.0-py2.py3-none-any.whl to /Users/habibmbow/opt/anaconda3/envs/torch-nightly/lib/python3.8/site-packages\n",
            "Adding snowballstemmer 2.2.0 to easy-install.pth file\n",
            "\n",
            "Installed /Users/habibmbow/opt/anaconda3/envs/torch-nightly/lib/python3.8/site-packages/snowballstemmer-2.2.0-py3.8.egg\n",
            "Searching for sphinxcontrib-qthelp\n",
            "Reading https://pypi.org/simple/sphinxcontrib-qthelp/\n",
            "/Users/habibmbow/opt/anaconda3/envs/torch-nightly/lib/python3.8/site-packages/pkg_resources/__init__.py:123: PkgResourcesDeprecationWarning: qthelp-1.0.0 is an invalid version and will not be supported in a future release\n",
            "  warnings.warn(\n",
            "/Users/habibmbow/opt/anaconda3/envs/torch-nightly/lib/python3.8/site-packages/pkg_resources/__init__.py:123: PkgResourcesDeprecationWarning: qthelp-1.0.1 is an invalid version and will not be supported in a future release\n",
            "  warnings.warn(\n",
            "/Users/habibmbow/opt/anaconda3/envs/torch-nightly/lib/python3.8/site-packages/pkg_resources/__init__.py:123: PkgResourcesDeprecationWarning: qthelp-1.0.2 is an invalid version and will not be supported in a future release\n",
            "  warnings.warn(\n",
            "/Users/habibmbow/opt/anaconda3/envs/torch-nightly/lib/python3.8/site-packages/pkg_resources/__init__.py:123: PkgResourcesDeprecationWarning: qthelp-1.0.3 is an invalid version and will not be supported in a future release\n",
            "  warnings.warn(\n",
            "Downloading https://files.pythonhosted.org/packages/2b/14/05f9206cf4e9cfca1afb5fd224c7cd434dcc3a433d6d9e4e0264d29c6cdb/sphinxcontrib_qthelp-1.0.3-py2.py3-none-any.whl#sha256=bd9fc24bcb748a8d51fd4ecaade681350aa63009a347a8c14e637895444dfab6\n",
            "Best match: sphinxcontrib-qthelp 1.0.3\n",
            "Processing sphinxcontrib_qthelp-1.0.3-py2.py3-none-any.whl\n",
            "Installing sphinxcontrib_qthelp-1.0.3-py2.py3-none-any.whl to /Users/habibmbow/opt/anaconda3/envs/torch-nightly/lib/python3.8/site-packages\n",
            "Adding sphinxcontrib-qthelp 1.0.3 to easy-install.pth file\n",
            "\n",
            "Installed /Users/habibmbow/opt/anaconda3/envs/torch-nightly/lib/python3.8/site-packages/sphinxcontrib_qthelp-1.0.3-py3.8.egg\n",
            "Searching for sphinxcontrib-serializinghtml>=1.1.5\n",
            "Reading https://pypi.org/simple/sphinxcontrib-serializinghtml/\n",
            "/Users/habibmbow/opt/anaconda3/envs/torch-nightly/lib/python3.8/site-packages/pkg_resources/__init__.py:123: PkgResourcesDeprecationWarning: serializinghtml-1.0.0 is an invalid version and will not be supported in a future release\n",
            "  warnings.warn(\n",
            "/Users/habibmbow/opt/anaconda3/envs/torch-nightly/lib/python3.8/site-packages/pkg_resources/__init__.py:123: PkgResourcesDeprecationWarning: serializinghtml-1.1.0 is an invalid version and will not be supported in a future release\n",
            "  warnings.warn(\n",
            "/Users/habibmbow/opt/anaconda3/envs/torch-nightly/lib/python3.8/site-packages/pkg_resources/__init__.py:123: PkgResourcesDeprecationWarning: serializinghtml-1.1.1 is an invalid version and will not be supported in a future release\n",
            "  warnings.warn(\n",
            "/Users/habibmbow/opt/anaconda3/envs/torch-nightly/lib/python3.8/site-packages/pkg_resources/__init__.py:123: PkgResourcesDeprecationWarning: serializinghtml-1.1.3 is an invalid version and will not be supported in a future release\n",
            "  warnings.warn(\n",
            "/Users/habibmbow/opt/anaconda3/envs/torch-nightly/lib/python3.8/site-packages/pkg_resources/__init__.py:123: PkgResourcesDeprecationWarning: serializinghtml-1.1.4 is an invalid version and will not be supported in a future release\n",
            "  warnings.warn(\n",
            "/Users/habibmbow/opt/anaconda3/envs/torch-nightly/lib/python3.8/site-packages/pkg_resources/__init__.py:123: PkgResourcesDeprecationWarning: serializinghtml-1.1.5 is an invalid version and will not be supported in a future release\n",
            "  warnings.warn(\n",
            "Downloading https://files.pythonhosted.org/packages/c6/77/5464ec50dd0f1c1037e3c93249b040c8fc8078fdda97530eeb02424b6eea/sphinxcontrib_serializinghtml-1.1.5-py2.py3-none-any.whl#sha256=352a9a00ae864471d3a7ead8d7d79f5fc0b57e8b3f95e9867eb9eb28999b92fd\n",
            "Best match: sphinxcontrib-serializinghtml 1.1.5\n",
            "Processing sphinxcontrib_serializinghtml-1.1.5-py2.py3-none-any.whl\n",
            "Installing sphinxcontrib_serializinghtml-1.1.5-py2.py3-none-any.whl to /Users/habibmbow/opt/anaconda3/envs/torch-nightly/lib/python3.8/site-packages\n",
            "Adding sphinxcontrib-serializinghtml 1.1.5 to easy-install.pth file\n",
            "\n",
            "Installed /Users/habibmbow/opt/anaconda3/envs/torch-nightly/lib/python3.8/site-packages/sphinxcontrib_serializinghtml-1.1.5-py3.8.egg\n",
            "Searching for sphinxcontrib-htmlhelp>=2.0.0\n",
            "Reading https://pypi.org/simple/sphinxcontrib-htmlhelp/\n",
            "/Users/habibmbow/opt/anaconda3/envs/torch-nightly/lib/python3.8/site-packages/pkg_resources/__init__.py:123: PkgResourcesDeprecationWarning: htmlhelp-1.0.0 is an invalid version and will not be supported in a future release\n",
            "  warnings.warn(\n",
            "/Users/habibmbow/opt/anaconda3/envs/torch-nightly/lib/python3.8/site-packages/pkg_resources/__init__.py:123: PkgResourcesDeprecationWarning: htmlhelp-1.0.1 is an invalid version and will not be supported in a future release\n",
            "  warnings.warn(\n",
            "/Users/habibmbow/opt/anaconda3/envs/torch-nightly/lib/python3.8/site-packages/pkg_resources/__init__.py:123: PkgResourcesDeprecationWarning: htmlhelp-1.0.2 is an invalid version and will not be supported in a future release\n",
            "  warnings.warn(\n",
            "/Users/habibmbow/opt/anaconda3/envs/torch-nightly/lib/python3.8/site-packages/pkg_resources/__init__.py:123: PkgResourcesDeprecationWarning: htmlhelp-1.0.3 is an invalid version and will not be supported in a future release\n",
            "  warnings.warn(\n",
            "/Users/habibmbow/opt/anaconda3/envs/torch-nightly/lib/python3.8/site-packages/pkg_resources/__init__.py:123: PkgResourcesDeprecationWarning: htmlhelp-2.0.0 is an invalid version and will not be supported in a future release\n",
            "  warnings.warn(\n",
            "Downloading https://files.pythonhosted.org/packages/63/40/c854ef09500e25f6432dcbad0f37df87fd7046d376272292d8654cc71c95/sphinxcontrib_htmlhelp-2.0.0-py2.py3-none-any.whl#sha256=d412243dfb797ae3ec2b59eca0e52dac12e75a241bf0e4eb861e450d06c6ed07\n",
            "Best match: sphinxcontrib-htmlhelp 2.0.0\n",
            "Processing sphinxcontrib_htmlhelp-2.0.0-py2.py3-none-any.whl\n",
            "Installing sphinxcontrib_htmlhelp-2.0.0-py2.py3-none-any.whl to /Users/habibmbow/opt/anaconda3/envs/torch-nightly/lib/python3.8/site-packages\n",
            "Adding sphinxcontrib-htmlhelp 2.0.0 to easy-install.pth file\n",
            "\n",
            "Installed /Users/habibmbow/opt/anaconda3/envs/torch-nightly/lib/python3.8/site-packages/sphinxcontrib_htmlhelp-2.0.0-py3.8.egg\n",
            "Searching for sphinxcontrib-jsmath\n",
            "Reading https://pypi.org/simple/sphinxcontrib-jsmath/\n",
            "/Users/habibmbow/opt/anaconda3/envs/torch-nightly/lib/python3.8/site-packages/pkg_resources/__init__.py:123: PkgResourcesDeprecationWarning: jsmath-1.0.0 is an invalid version and will not be supported in a future release\n",
            "  warnings.warn(\n",
            "/Users/habibmbow/opt/anaconda3/envs/torch-nightly/lib/python3.8/site-packages/pkg_resources/__init__.py:123: PkgResourcesDeprecationWarning: jsmath-1.0.1 is an invalid version and will not be supported in a future release\n",
            "  warnings.warn(\n",
            "Downloading https://files.pythonhosted.org/packages/c2/42/4c8646762ee83602e3fb3fbe774c2fac12f317deb0b5dbeeedd2d3ba4b77/sphinxcontrib_jsmath-1.0.1-py2.py3-none-any.whl#sha256=2ec2eaebfb78f3f2078e73666b1415417a116cc848b72e5172e596c871103178\n",
            "Best match: sphinxcontrib-jsmath 1.0.1\n",
            "Processing sphinxcontrib_jsmath-1.0.1-py2.py3-none-any.whl\n",
            "Installing sphinxcontrib_jsmath-1.0.1-py2.py3-none-any.whl to /Users/habibmbow/opt/anaconda3/envs/torch-nightly/lib/python3.8/site-packages\n",
            "Adding sphinxcontrib-jsmath 1.0.1 to easy-install.pth file\n",
            "\n",
            "Installed /Users/habibmbow/opt/anaconda3/envs/torch-nightly/lib/python3.8/site-packages/sphinxcontrib_jsmath-1.0.1-py3.8.egg\n",
            "Searching for sphinxcontrib-devhelp\n",
            "Reading https://pypi.org/simple/sphinxcontrib-devhelp/\n",
            "/Users/habibmbow/opt/anaconda3/envs/torch-nightly/lib/python3.8/site-packages/pkg_resources/__init__.py:123: PkgResourcesDeprecationWarning: devhelp-1.0.0 is an invalid version and will not be supported in a future release\n",
            "  warnings.warn(\n",
            "/Users/habibmbow/opt/anaconda3/envs/torch-nightly/lib/python3.8/site-packages/pkg_resources/__init__.py:123: PkgResourcesDeprecationWarning: devhelp-1.0.1 is an invalid version and will not be supported in a future release\n",
            "  warnings.warn(\n",
            "/Users/habibmbow/opt/anaconda3/envs/torch-nightly/lib/python3.8/site-packages/pkg_resources/__init__.py:123: PkgResourcesDeprecationWarning: devhelp-1.0.2 is an invalid version and will not be supported in a future release\n",
            "  warnings.warn(\n",
            "Downloading https://files.pythonhosted.org/packages/c5/09/5de5ed43a521387f18bdf5f5af31d099605c992fd25372b2b9b825ce48ee/sphinxcontrib_devhelp-1.0.2-py2.py3-none-any.whl#sha256=8165223f9a335cc1af7ffe1ed31d2871f325254c0423bc0c4c7cd1c1e4734a2e\n",
            "Best match: sphinxcontrib-devhelp 1.0.2\n",
            "Processing sphinxcontrib_devhelp-1.0.2-py2.py3-none-any.whl\n",
            "Installing sphinxcontrib_devhelp-1.0.2-py2.py3-none-any.whl to /Users/habibmbow/opt/anaconda3/envs/torch-nightly/lib/python3.8/site-packages\n",
            "Adding sphinxcontrib-devhelp 1.0.2 to easy-install.pth file\n",
            "\n",
            "Installed /Users/habibmbow/opt/anaconda3/envs/torch-nightly/lib/python3.8/site-packages/sphinxcontrib_devhelp-1.0.2-py3.8.egg\n",
            "Searching for sphinxcontrib-applehelp\n",
            "Reading https://pypi.org/simple/sphinxcontrib-applehelp/\n",
            "/Users/habibmbow/opt/anaconda3/envs/torch-nightly/lib/python3.8/site-packages/pkg_resources/__init__.py:123: PkgResourcesDeprecationWarning: applehelp-1.0.0 is an invalid version and will not be supported in a future release\n",
            "  warnings.warn(\n",
            "/Users/habibmbow/opt/anaconda3/envs/torch-nightly/lib/python3.8/site-packages/pkg_resources/__init__.py:123: PkgResourcesDeprecationWarning: applehelp-1.0.1 is an invalid version and will not be supported in a future release\n",
            "  warnings.warn(\n",
            "/Users/habibmbow/opt/anaconda3/envs/torch-nightly/lib/python3.8/site-packages/pkg_resources/__init__.py:123: PkgResourcesDeprecationWarning: applehelp-1.0.2 is an invalid version and will not be supported in a future release\n",
            "  warnings.warn(\n",
            "Downloading https://files.pythonhosted.org/packages/dc/47/86022665a9433d89a66f5911b558ddff69861766807ba685de2e324bd6ed/sphinxcontrib_applehelp-1.0.2-py2.py3-none-any.whl#sha256=806111e5e962be97c29ec4c1e7fe277bfd19e9652fb1a4392105b43e01af885a\n",
            "Best match: sphinxcontrib-applehelp 1.0.2\n",
            "Processing sphinxcontrib_applehelp-1.0.2-py2.py3-none-any.whl\n",
            "Installing sphinxcontrib_applehelp-1.0.2-py2.py3-none-any.whl to /Users/habibmbow/opt/anaconda3/envs/torch-nightly/lib/python3.8/site-packages\n",
            "Adding sphinxcontrib-applehelp 1.0.2 to easy-install.pth file\n",
            "\n",
            "Installed /Users/habibmbow/opt/anaconda3/envs/torch-nightly/lib/python3.8/site-packages/sphinxcontrib_applehelp-1.0.2-py3.8.egg\n",
            "Searching for gitdb<5,>=4.0.1\n",
            "Reading https://pypi.org/simple/gitdb/\n",
            "Downloading https://files.pythonhosted.org/packages/a3/7c/5d747655049bfbf75b5fcec57c8115896cb78d6fafa84f6d3ef4c0f13a98/gitdb-4.0.9-py3-none-any.whl#sha256=8033ad4e853066ba6ca92050b9df2f89301b8fc8bf7e9324d412a63f8bf1a8fd\n",
            "Best match: gitdb 4.0.9\n",
            "Processing gitdb-4.0.9-py3-none-any.whl\n",
            "Installing gitdb-4.0.9-py3-none-any.whl to /Users/habibmbow/opt/anaconda3/envs/torch-nightly/lib/python3.8/site-packages\n",
            "Adding gitdb 4.0.9 to easy-install.pth file\n",
            "\n",
            "Installed /Users/habibmbow/opt/anaconda3/envs/torch-nightly/lib/python3.8/site-packages/gitdb-4.0.9-py3.8.egg\n",
            "Searching for pyflakes<2.6.0,>=2.5.0\n",
            "Reading https://pypi.org/simple/pyflakes/\n",
            "Downloading https://files.pythonhosted.org/packages/dc/13/63178f59f74e53acc2165aee4b002619a3cfa7eeaeac989a9eb41edf364e/pyflakes-2.5.0-py2.py3-none-any.whl#sha256=4579f67d887f804e67edb544428f264b7b24f435b263c4614f384135cea553d2\n",
            "Best match: pyflakes 2.5.0\n",
            "Processing pyflakes-2.5.0-py2.py3-none-any.whl\n",
            "Installing pyflakes-2.5.0-py2.py3-none-any.whl to /Users/habibmbow/opt/anaconda3/envs/torch-nightly/lib/python3.8/site-packages\n",
            "Adding pyflakes 2.5.0 to easy-install.pth file\n",
            "Installing pyflakes script to /Users/habibmbow/opt/anaconda3/envs/torch-nightly/bin\n",
            "\n",
            "Installed /Users/habibmbow/opt/anaconda3/envs/torch-nightly/lib/python3.8/site-packages/pyflakes-2.5.0-py3.8.egg\n",
            "Searching for pycodestyle<2.10.0,>=2.9.0\n",
            "Reading https://pypi.org/simple/pycodestyle/\n",
            "Downloading https://files.pythonhosted.org/packages/67/e4/fc77f1039c34b3612c4867b69cbb2b8a4e569720b1f19b0637002ee03aff/pycodestyle-2.9.1-py2.py3-none-any.whl#sha256=d1735fc58b418fd7c5f658d28d943854f8a849b01a5d0a1e6f3f3fdd0166804b\n",
            "Best match: pycodestyle 2.9.1\n",
            "Processing pycodestyle-2.9.1-py2.py3-none-any.whl\n",
            "Installing pycodestyle-2.9.1-py2.py3-none-any.whl to /Users/habibmbow/opt/anaconda3/envs/torch-nightly/lib/python3.8/site-packages\n",
            "Adding pycodestyle 2.9.1 to easy-install.pth file\n",
            "Installing pycodestyle script to /Users/habibmbow/opt/anaconda3/envs/torch-nightly/bin\n",
            "\n",
            "Installed /Users/habibmbow/opt/anaconda3/envs/torch-nightly/lib/python3.8/site-packages/pycodestyle-2.9.1-py3.8.egg\n",
            "Searching for mccabe<0.8.0,>=0.7.0\n",
            "Reading https://pypi.org/simple/mccabe/\n",
            "Downloading https://files.pythonhosted.org/packages/27/1a/1f68f9ba0c207934b35b86a8ca3aad8395a3d6dd7921c0686e23853ff5a9/mccabe-0.7.0-py2.py3-none-any.whl#sha256=6c2d30ab6be0e4a46919781807b4f0d834ebdd6c6e3dca0bda5a15f863427b6e\n",
            "Best match: mccabe 0.7.0\n",
            "Processing mccabe-0.7.0-py2.py3-none-any.whl\n",
            "Installing mccabe-0.7.0-py2.py3-none-any.whl to /Users/habibmbow/opt/anaconda3/envs/torch-nightly/lib/python3.8/site-packages\n",
            "Adding mccabe 0.7.0 to easy-install.pth file\n",
            "\n",
            "Installed /Users/habibmbow/opt/anaconda3/envs/torch-nightly/lib/python3.8/site-packages/mccabe-0.7.0-py3.8.egg\n",
            "Searching for jmespath<2.0.0,>=0.7.1\n",
            "Reading https://pypi.org/simple/jmespath/\n",
            "Downloading https://files.pythonhosted.org/packages/31/b4/b9b800c45527aadd64d5b442f9b932b00648617eb5d63d2c7a6587b7cafc/jmespath-1.0.1-py3-none-any.whl#sha256=02e2e4cc71b5bcab88332eebf907519190dd9e6e82107fa7f83b1003a6252980\n",
            "Best match: jmespath 1.0.1\n",
            "Processing jmespath-1.0.1-py3-none-any.whl\n",
            "Installing jmespath-1.0.1-py3-none-any.whl to /Users/habibmbow/opt/anaconda3/envs/torch-nightly/lib/python3.8/site-packages\n",
            "Adding jmespath 1.0.1 to easy-install.pth file\n",
            "Installing jp.py script to /Users/habibmbow/opt/anaconda3/envs/torch-nightly/bin\n",
            "\n",
            "Installed /Users/habibmbow/opt/anaconda3/envs/torch-nightly/lib/python3.8/site-packages/jmespath-1.0.1-py3.8.egg\n",
            "Searching for s3transfer<0.7.0,>=0.6.0\n",
            "Reading https://pypi.org/simple/s3transfer/\n",
            "Downloading https://files.pythonhosted.org/packages/5e/c6/af903b5fab3f9b5b1e883f49a770066314c6dcceb589cf938d48c89556c1/s3transfer-0.6.0-py3-none-any.whl#sha256=06176b74f3a15f61f1b4f25a1fc29a4429040b7647133a463da8fa5bd28d5ecd\n",
            "Best match: s3transfer 0.6.0\n",
            "Processing s3transfer-0.6.0-py3-none-any.whl\n",
            "Installing s3transfer-0.6.0-py3-none-any.whl to /Users/habibmbow/opt/anaconda3/envs/torch-nightly/lib/python3.8/site-packages\n",
            "Adding s3transfer 0.6.0 to easy-install.pth file\n",
            "\n",
            "Installed /Users/habibmbow/opt/anaconda3/envs/torch-nightly/lib/python3.8/site-packages/s3transfer-0.6.0-py3.8.egg\n",
            "error: greenlet 2.0.0a2 is installed but greenlet<2.0,>=1.1.0 is required by {'gevent'}\n"
          ]
        }
      ],
      "source": [
        "!git clone https://github.com/facebookresearch/ParlAI.git ~/ParlAI\n",
        "!cd ~/ParlAI && git checkout 6bd0e58692b3fd3a13b5f654944525ac1b7cd8e3\n",
        "!cd ~/ParlAI; python3 setup.py develop"
      ]
    },
    {
      "cell_type": "markdown",
      "metadata": {
        "id": "EJDOC-zsL3wR"
      },
      "source": [
        "Most of the scripts that we will use in ParlAI are located in the `~/ParlAI/examples` directory.  \n",
        "Let's have a first glance at the scripts available, we will come back to them later:"
      ]
    },
    {
      "cell_type": "code",
      "execution_count": 2,
      "metadata": {
        "colab": {
          "base_uri": "https://localhost:8080/"
        },
        "id": "bIMjwxKrLm36",
        "outputId": "3e6b6061-36bb-4196-e329-6395be650787"
      },
      "outputs": [
        {
          "name": "stdout",
          "output_type": "stream",
          "text": [
            "README.md                display_model.py         remote.py\n",
            "base_train.py            eval_model.py            seq2seq_train_babi.py\n",
            "build_dict.py            extract_image_feature.py train_model.py\n",
            "build_pytorch_data.py    interactive.py\n",
            "display_data.py          profile_train.py\n"
          ]
        }
      ],
      "source": [
        "!ls ~/ParlAI/examples/"
      ]
    },
    {
      "cell_type": "markdown",
      "metadata": {
        "id": "N4UnbCdcqHPu"
      },
      "source": [
        "### The bAbI tasks\n",
        "Many datasets and tasks are included in ParlAI, we will focus on the bAbI tasks.\n",
        "The bAbI tasks are 20 synthetic tasks that each test a unique aspect of text and reasoning, and hence test different capabilities of learning models from [Weston et al. ‘16](http://arxiv.org/abs/1502.05698).\n",
        "\n",
        "---\n",
        "**Question 0.**  \n",
        "Open the bAbI [paper](https://arxiv.org/pdf/1502.05698.pdf) and read the abstract  and section: *\"3 The Tasks\"* (until paragraph **Two or Three Supporting Facts**,  included).  \n",
        "- **0.a.** Explain in your own words the motivations behind these tasks (in 2-3 sentences).\n",
        "\n",
        "*ANSWER IN GOOGLE FORM*\n",
        "\n",
        "---\n",
        "\n",
        "These tasks can be downloaded and used directly from ParlAI.  \n",
        "We will focus on tasks 1, 2 and 3, see examples below:\n",
        "\n",
        "\n",
        "**Task 1: Single Supporting Fact**  \n",
        "Mary went to the bathroom.  \n",
        "John moved to the hallway.  \n",
        "Mary travelled to the office.  \n",
        "Where is Mary?  \n",
        "**Answer: office**  \n",
        "\n",
        "\n",
        "**Task 2: Two Supporting Facts**  \n",
        "John is in the playground.  \n",
        "John picked up the football.  \n",
        "Bob went to the kitchen.  \n",
        "Where is the football?  \n",
        "**Answer: playground**\n",
        "\n",
        "\n",
        "**Task 3: Three Supporting Facts **  \n",
        "John picked up the apple.  \n",
        "John went to the office.  \n",
        "John went to the kitchen.  \n",
        "John dropped the apple.   \n",
        "Where was the apple before the kitchen?  \n",
        "**Answer: office**\n",
        "\n"
      ]
    },
    {
      "cell_type": "markdown",
      "metadata": {
        "id": "L6IZA9r0MjBd"
      },
      "source": [
        "## 1. Exploring the data"
      ]
    },
    {
      "cell_type": "markdown",
      "metadata": {
        "id": "1Cc-Si6SyatK"
      },
      "source": [
        "First we need to download the data, we will use the `build_dict.py` as a dummy task to download the data."
      ]
    },
    {
      "cell_type": "code",
      "execution_count": 3,
      "metadata": {
        "colab": {
          "base_uri": "https://localhost:8080/"
        },
        "id": "XAEH7xUXtxFj",
        "outputId": "2f154c42-438f-45d1-d1bc-6cdbcbb13851"
      },
      "outputs": [
        {
          "name": "stdout",
          "output_type": "stream",
          "text": [
            "/Users/habibmbow/ParlAI/parlai/core/teachers.py:829: SyntaxWarning: \"is\" with a literal. Did you mean \"==\"?\n",
            "  end_of_data = episode_done and self.next_episode is -1\n",
            "[ Main ParlAI Arguments: ] \n",
            "[  batchsize: 1 ]\n",
            "[  datapath: /Users/habibmbow/ParlAI/data ]\n",
            "[  datatype: train ]\n",
            "[  download_path: /Users/habibmbow/ParlAI/downloads ]\n",
            "[  hide_labels: False ]\n",
            "[  image_mode: raw ]\n",
            "[  multitask_weights: [1] ]\n",
            "[  numthreads: 1 ]\n",
            "[  show_advanced_args: False ]\n",
            "[  task: babi:task1k:1 ]\n",
            "[ ParlAI Model Arguments: ] \n",
            "[  dict_class: None ]\n",
            "[  init_model: None ]\n",
            "[  model: None ]\n",
            "[  model_file: None ]\n",
            "[ PytorchData Arguments: ] \n",
            "[  batch_length_range: 5 ]\n",
            "[  batch_sort_cache_type: pop ]\n",
            "[  batch_sort_field: text ]\n",
            "[  numworkers: 4 ]\n",
            "[  pytorch_context_length: -1 ]\n",
            "[  pytorch_datapath: None ]\n",
            "[  pytorch_include_labels: True ]\n",
            "[  pytorch_preprocess: False ]\n",
            "[  pytorch_teacher_batch_sort: False ]\n",
            "[  pytorch_teacher_dataset: None ]\n",
            "[  pytorch_teacher_task: None ]\n",
            "[  shuffle: False ]\n",
            "[ Dictionary Loop Arguments: ] \n",
            "[  dict_include_test: False ]\n",
            "[  dict_include_valid: False ]\n",
            "[  dict_maxexs: -1 ]\n",
            "[  log_every_n_secs: 2 ]\n",
            "[ Dictionary Arguments: ] \n",
            "[  bpe_debug: False ]\n",
            "[  dict_endtoken: __end__ ]\n",
            "[  dict_file: /tmp/babi1.dict ]\n",
            "[  dict_initpath: None ]\n",
            "[  dict_language: english ]\n",
            "[  dict_lower: False ]\n",
            "[  dict_max_ngram_size: -1 ]\n",
            "[  dict_maxtokens: -1 ]\n",
            "[  dict_minfreq: 0 ]\n",
            "[  dict_nulltoken: __null__ ]\n",
            "[  dict_starttoken: __start__ ]\n",
            "[  dict_textfields: text,labels ]\n",
            "[  dict_tokenizer: re ]\n",
            "[  dict_unktoken: __unk__ ]\n",
            "[ ParlAI Image Preprocessing Arguments: ] \n",
            "[  image_cropsize: 224 ]\n",
            "[  image_size: 256 ]\n",
            "[creating task(s): babi:task1k:1]\n",
            "[building data: /Users/habibmbow/ParlAI/data/bAbI]\n",
            "[ downloading: http://parl.ai/downloads/babi/babi.tar.gz to /Users/habibmbow/ParlAI/data/bAbI/babi.tar.gz ]\n",
            "Downloading babi.tar.gz: 100%|██████████████| 19.2M/19.2M [00:53<00:00, 357kB/s]\n",
            "unpacking babi.tar.gz\n",
            "[ running dictionary over data.. ]\n",
            "[loading fbdialog data:/Users/habibmbow/ParlAI/data/bAbI/tasks_1-20_v1-2/en-valid-nosf/qa1_train.txt]\n",
            "Building dictionary:   0%|                           | 0.00/900 [00:00<?, ?ex/s][loading fbdialog data:/Users/habibmbow/ParlAI/data/bAbI/tasks_1-20_v1-2/en-valid-nosf/qa1_train.txt]\n",
            "[loading fbdialog data:/Users/habibmbow/ParlAI/data/bAbI/tasks_1-20_v1-2/en-valid-nosf/qa1_train.txt]\n",
            "Building dictionary: 100%|████████████████████| 900/900 [00:00<00:00, 42.6kex/s]\n",
            "Dictionary: saving dictionary to /tmp/babi1.dict\n",
            "[ dictionary built with 26 tokens in 0s ]\n",
            "1 Mary moved to the bathroom.\n",
            "2 John went to the hallway.\n",
            "3 Where is Mary? \tbathroom\n",
            "4 Daniel went back to the hallway.\n",
            "5 Sandra moved to the garden.\n",
            "6 Where is Daniel? \thallway\n",
            "7 John moved to the office.\n",
            "8 Sandra journeyed to the bathroom.\n",
            "9 Where is Daniel? \thallway\n",
            "10 Mary moved to the hallway.\n",
            "11 Daniel travelled to the office.\n",
            "12 Where is Daniel? \toffice\n",
            "13 John went back to the garden.\n",
            "14 John moved to the bedroom.\n",
            "15 Where is Sandra? \tbathroom\n",
            "1 Mary went to the bedroom.\n",
            "2 John journeyed to the bathroom.\n",
            "3 Where is John? \tbathroom\n",
            "4 Sandra journeyed to the hallway.\n",
            "5 John journeyed to the garden.\n",
            "6 Where is Mary? \tbedroom\n",
            "7 John journeyed to the bathroom.\n",
            "8 Sandra journeyed to the garden.\n",
            "9 Where is John? \tbathroom\n",
            "10 Sandra went back to the bedroom.\n",
            "11 Daniel travelled to the bathroom.\n",
            "12 Where is John? \tbathroom\n",
            "13 John went to the office.\n",
            "14 Mary moved to the office.\n",
            "15 Where is Sandra? \tbedroom\n"
          ]
        }
      ],
      "source": [
        "# Download the data silently\n",
        "!python3 ~/ParlAI/examples/build_dict.py --task babi:task1k:1 --dict-file /tmp/babi1.dict\n",
        "# Print a few examples\n",
        "!head -n 30 ~/ParlAI/data/bAbI/tasks_1-20_v1-2/en-valid-10k-nosf/qa1_train.txt"
      ]
    },
    {
      "cell_type": "markdown",
      "metadata": {
        "id": "vbc5n2xpPnsb"
      },
      "source": [
        "The bAbI tasks were downloaded in `~/ParlAI/data/bAbI/tasks_1-20_v1-2/en-valid-nosf/`\n",
        "\n",
        "In bAbI the data is organised as follows:\n",
        "- **Dialog turn**: A dialog turn is a single utterance / statement. Each line in the file corresponds to one dialog turn.   \n",
        "  Example: *\"John went to the office.\"*\n",
        "- **Sample (question)**: Every few dialog turns, a question can be asked that the model has to answer, this consitute a sample.  The question is followed by its ground truth answer, separated by a tab.\n",
        "  Example: *\"Where is John? `<tab>` bathroom\"*\n",
        "- **Episode**: a sequence of ordered coherent dialog turns that are related to each other form an episode. Each new episode is independant of the others. Each line starts with the dialog turn number in the current episode.\n",
        "\n",
        "\n",
        "---\n",
        "**Question 1.**\n",
        "- **1.a.** Look at the training file of task 1 (`~/ParlAI/data/bAbI/tasks_1-20_v1-2/en/qa1_train.txt`) and compute the following information:\n",
        "  - Number of episodes\n",
        "  - Number of  samples (questions)\n",
        "  - Number of dialog turns per episode\n",
        "  - How many different answers are there in the train set? How many times does each appear? (*hint: Use a python [counter](https://docs.python.org/3/library/collections.html#collections.Counter)*)\n",
        "  - How many unique words appear in the training set? How many time does each appear? (*hint: Use the Counter `most_common()` method*)\n",
        "\n",
        "*Print the answer in the following code cell*\n",
        "  \n",
        "  ---"
      ]
    },
    {
      "cell_type": "code",
      "execution_count": 4,
      "metadata": {
        "colab": {
          "base_uri": "https://localhost:8080/"
        },
        "id": "nk7B40wOf8nU",
        "outputId": "8e8acce1-0e6e-4ca8-daff-76bf7409a7c4"
      },
      "outputs": [
        {
          "ename": "FileNotFoundError",
          "evalue": "[Errno 2] No such file or directory: '/root/ParlAI/data/bAbI/tasks_1-20_v1-2/en-valid-10k-nosf/qa1_train.txt'",
          "output_type": "error",
          "traceback": [
            "\u001b[0;31m---------------------------------------------------------------------------\u001b[0m",
            "\u001b[0;31mFileNotFoundError\u001b[0m                         Traceback (most recent call last)",
            "\u001b[1;32m/Users/habibmbow/Desktop/Natural_Language_Processing/NLP_Week_3/NLP_Week3_Labs/Habib_MBOW_ammi_dnlp_lab_machine_reading.ipynb Cell 13\u001b[0m in \u001b[0;36m<cell line: 11>\u001b[0;34m()\u001b[0m\n\u001b[1;32m      <a href='vscode-notebook-cell:/Users/habibmbow/Desktop/Natural_Language_Processing/NLP_Week_3/NLP_Week3_Labs/Habib_MBOW_ammi_dnlp_lab_machine_reading.ipynb#X15sZmlsZQ%3D%3D?line=8'>9</a>\u001b[0m tab1\u001b[39m=\u001b[39m[]\n\u001b[1;32m     <a href='vscode-notebook-cell:/Users/habibmbow/Desktop/Natural_Language_Processing/NLP_Week_3/NLP_Week3_Labs/Habib_MBOW_ammi_dnlp_lab_machine_reading.ipynb#X15sZmlsZQ%3D%3D?line=9'>10</a>\u001b[0m tab2\u001b[39m=\u001b[39m[]\n\u001b[0;32m---> <a href='vscode-notebook-cell:/Users/habibmbow/Desktop/Natural_Language_Processing/NLP_Week_3/NLP_Week3_Labs/Habib_MBOW_ammi_dnlp_lab_machine_reading.ipynb#X15sZmlsZQ%3D%3D?line=10'>11</a>\u001b[0m \u001b[39mwith\u001b[39;00m \u001b[39mopen\u001b[39;49m(task_1_train_path, \u001b[39m'\u001b[39;49m\u001b[39mr\u001b[39;49m\u001b[39m'\u001b[39;49m) \u001b[39mas\u001b[39;00m f:\n\u001b[1;32m     <a href='vscode-notebook-cell:/Users/habibmbow/Desktop/Natural_Language_Processing/NLP_Week_3/NLP_Week3_Labs/Habib_MBOW_ammi_dnlp_lab_machine_reading.ipynb#X15sZmlsZQ%3D%3D?line=11'>12</a>\u001b[0m     \u001b[39m# FILL CODE HERE\u001b[39;00m\n\u001b[1;32m     <a href='vscode-notebook-cell:/Users/habibmbow/Desktop/Natural_Language_Processing/NLP_Week_3/NLP_Week3_Labs/Habib_MBOW_ammi_dnlp_lab_machine_reading.ipynb#X15sZmlsZQ%3D%3D?line=12'>13</a>\u001b[0m     data \u001b[39m=\u001b[39m f\u001b[39m.\u001b[39mreadlines()\n\u001b[1;32m     <a href='vscode-notebook-cell:/Users/habibmbow/Desktop/Natural_Language_Processing/NLP_Week_3/NLP_Week3_Labs/Habib_MBOW_ammi_dnlp_lab_machine_reading.ipynb#X15sZmlsZQ%3D%3D?line=13'>14</a>\u001b[0m     \u001b[39mprint\u001b[39m(data)\n",
            "\u001b[0;31mFileNotFoundError\u001b[0m: [Errno 2] No such file or directory: '/root/ParlAI/data/bAbI/tasks_1-20_v1-2/en-valid-10k-nosf/qa1_train.txt'"
          ]
        }
      ],
      "source": [
        "# FILL THIS CELL\n",
        "from collections import Counter\n",
        "\n",
        "\n",
        "task_1_train_path = '/root/ParlAI/data/bAbI/tasks_1-20_v1-2/en-valid-10k-nosf/qa1_train.txt'\n",
        "num_episode=num_sample=0.0\n",
        "num_dialog=1.0\n",
        "tab=[]\n",
        "tab1=[]\n",
        "tab2=[]\n",
        "with open(task_1_train_path, 'r') as f:\n",
        "    # FILL CODE HERE\n",
        "    data = f.readlines()\n",
        "    print(data)\n",
        "    for _episode in data:\n",
        "      if _episode[0:2]==\"1 \":\n",
        "        num_episode+=1\n",
        "      if '?' in _episode:\n",
        "        num_sample+=1\n",
        "    for _episode in data:\n",
        "      tab.append(_episode[0:2])\n",
        "      if '?' in _episode:\n",
        "        tab1.append(_episode)\n",
        "print(\"number of episode\",num_episode)\n",
        "print(\"number of sample\",num_sample)\n",
        "print(\"Number of dialog turns per episode\",float(len(set(tab))))\n",
        "print(\"different answers in the train set\",len(set(tab1)))\n",
        "for unique in set(tab1):\n",
        "  tab2.append((unique,tab1.count(unique)))\n",
        "#print(len(tab2))\n",
        "print(tab2)\n",
        "my_unique=[]\n",
        "word_appear=[]\n",
        "for word in data:\n",
        "  for unique_word in word.split():\n",
        "    my_unique.append(unique_word)\n",
        "print(\"number of unique word\",len(set(my_unique)))\n",
        "# for word_time in my_unique:\n",
        "#   word_appear.append((word_time,my_unique.count(word_time)))\n",
        "# print(\"number of time each word appear\",word_appear)"
      ]
    },
    {
      "cell_type": "markdown",
      "metadata": {
        "id": "XNYNtDHiuVq8"
      },
      "source": [
        "\n",
        "Use the appropriate script from the `~/ParlAI/examples/` to take a quick look at examples of the first bAbI task.  \n",
        "Does the number of episodes and examples fit what you computed before? (*hint: you can use the argument `--task babi:task1k:1` to select the first babi task*)"
      ]
    },
    {
      "cell_type": "code",
      "execution_count": null,
      "metadata": {
        "colab": {
          "base_uri": "https://localhost:8080/"
        },
        "id": "f6HlIvzGgKv2",
        "outputId": "39dde63e-2ef8-407a-850e-2df90f43ec3e"
      },
      "outputs": [
        {
          "name": "stdout",
          "output_type": "stream",
          "text": [
            "/bin/bash: /root/ParlAI/examples/: Is a directory\n"
          ]
        }
      ],
      "source": [
        "# FILL THIS CELL\n",
        "!~/ParlAI/examples/"
      ]
    },
    {
      "cell_type": "code",
      "execution_count": null,
      "metadata": {
        "colab": {
          "base_uri": "https://localhost:8080/"
        },
        "id": "JGpDNGwT2XiJ",
        "outputId": "082dd834-e36a-43c9-ce2e-0ddfefc8c386"
      },
      "outputs": [
        {
          "name": "stdout",
          "output_type": "stream",
          "text": [
            "['1', 'je', 'suis', 'etudiant', 'je', 'suis']\n",
            "{'suis', '1', 'je', 'etudiant'}\n"
          ]
        }
      ],
      "source": [
        "tab=[]\n",
        "a=\"1 je suis etudiant je suis\"\n",
        "for t in a.split():\n",
        "  tab.append(t)\n",
        "print(tab)\n",
        "print(set(tab))"
      ]
    },
    {
      "cell_type": "markdown",
      "metadata": {
        "id": "TovRmKOA858i"
      },
      "source": [
        "## 2. Metrics"
      ]
    },
    {
      "cell_type": "markdown",
      "metadata": {
        "id": "g9NV_vBlPSWP"
      },
      "source": [
        "The bAbI task 1 expects single word answers among a small set of possible answers.\n",
        "\n",
        "\n",
        "---\n",
        "**Question 2**  \n",
        "- **2.a.** Which metrics do you think are appropriate for evaluating a model on this task?   \n",
        "-  **2.b.**  What are their respective strengths?  \n",
        "-  **2.c.** When do they fail? (find specific examples)  \n",
        "\n",
        "\n",
        "*ANSWER IN GOOGLE FORM* \n",
        "\n",
        "\n",
        "\n",
        "\n",
        "---"
      ]
    },
    {
      "cell_type": "markdown",
      "metadata": {
        "id": "0_MZKCTW6fh9"
      },
      "source": [
        "## 3. Baseline\n",
        "\n"
      ]
    },
    {
      "cell_type": "markdown",
      "metadata": {
        "id": "RSexIY71yiD6"
      },
      "source": [
        "We now have a clearer idea of the data distribution and the metrics that we can use.  \n",
        "The next step is to start solving the tasks with a simple baseline. This will allow us to compare more elaborate models agains this baseline.  \n",
        "Here are a few classical baselines:\n",
        "- **Random model**: The model answers randomly among the set of possible answers for each question\n",
        "-  **Majority class**: The model always answers with the most frequent answer in the training set (majority class)\n",
        "\n",
        "We are going to reimplement these own baselines.  \n",
        "Implementing a new model in ParlAI is detailed in the [tutorial](http://parl.ai/static/docs/seq2seq_tutorial.html) but for our simple baselines, we will only need to inherit the [Agent](https://github.com/facebookresearch/ParlAI/blob/6d246842d3f4e941dd3806f3d9fa62f607d48f59/parlai/core/agents.py#L50) class and override the `act()` method.\n",
        "\n",
        "---\n",
        "**Question 3**  \n",
        "- **3.a.** What would be the accuracy of a model that choses a random answer among the set of possible answers for each question? \n",
        "\n",
        "*ANSWER IN GOOGLE FORM*\n",
        "\n",
        "---\n",
        "\n",
        "*Note: the `%%writefile` magic command in jupyter writes the content of the cell to a file at the given path.*"
      ]
    },
    {
      "cell_type": "code",
      "execution_count": null,
      "metadata": {
        "id": "9ahmFL0Rk6g1"
      },
      "outputs": [],
      "source": [
        "!mkdir -p ~/ParlAI/parlai/agents/baseline/\n",
        "!touch ~/ParlAI/parlai/agents/baseline/random.py\n",
        "!touch ~/ParlAI/parlai/agents/baseline/majorityclass.py"
      ]
    },
    {
      "cell_type": "markdown",
      "metadata": {
        "id": "mZLM7DtkkJN1"
      },
      "source": [
        "- **3.b.**  Design a baseline that answers a random word in the set of possible answer (run it multiple time to observe variance in results)."
      ]
    },
    {
      "cell_type": "code",
      "execution_count": null,
      "metadata": {
        "id": "Zx4emBSPjmE-"
      },
      "outputs": [],
      "source": [
        "# FILL THIS CELL\n",
        "%%writefile ~/ParlAI/parlai/agents/baseline/random.py\n",
        "import random\n",
        "\n",
        "from parlai.core.torch_agent import Agent\n",
        "\n",
        "\n",
        "class RandomAgent(Agent):\n",
        "  \n",
        "    def act(self):\n",
        "        # FILL CODE HERE"
      ]
    },
    {
      "cell_type": "code",
      "execution_count": null,
      "metadata": {
        "id": "dMOWxgVj1Joz"
      },
      "outputs": [],
      "source": [
        "!python3 ~/ParlAI/examples/eval_model.py -t babi:task10k:1 -m baseline/random | grep accuracy -A 1"
      ]
    },
    {
      "cell_type": "code",
      "execution_count": null,
      "metadata": {
        "id": "oVs3pOKE2-WE"
      },
      "outputs": [],
      "source": [
        "!python3 ~/ParlAI/examples/display_model.py -t babi:task10k:1 -m baseline/random -n 10 "
      ]
    },
    {
      "cell_type": "markdown",
      "metadata": {
        "id": "3UnE4oVakR4k"
      },
      "source": [
        "- **3.c.**  Design a baseline that answers the most common answer every time (majority class baseline)."
      ]
    },
    {
      "cell_type": "code",
      "execution_count": null,
      "metadata": {
        "id": "hHIV2NUzGzQc"
      },
      "outputs": [],
      "source": [
        "# FILL THIS CELL\n",
        "%%writefile ~/ParlAI/parlai/agents/baseline/majorityclass.py\n",
        "import random\n",
        "\n",
        "from parlai.core.torch_agent import Agent\n",
        "\n",
        "\n",
        "class MajorityclassAgent(Agent):\n",
        "  \n",
        "    def act(self):\n",
        "        # FILL CODE HERE"
      ]
    },
    {
      "cell_type": "code",
      "execution_count": null,
      "metadata": {
        "id": "U34z6bx0lJV9"
      },
      "outputs": [],
      "source": [
        "!python3 ~/ParlAI/examples/eval_model.py -t babi:task10k:1 -m baseline/majorityclass | grep accuracy -A 1"
      ]
    },
    {
      "cell_type": "code",
      "execution_count": null,
      "metadata": {
        "id": "X8LHkfUS3AL0"
      },
      "outputs": [],
      "source": [
        "!python3 ~/ParlAI/examples/display_model.py -t babi:task10k:1 -m baseline/majorityclass -n 10"
      ]
    },
    {
      "cell_type": "markdown",
      "metadata": {
        "id": "BOW4ZTSekWt9"
      },
      "source": [
        "---\n",
        "- **3.d.**  In which cases would the majority class baseline be better than the random baseline?\n",
        "\n",
        "*ANSWER IN GOOGLE FORM*\n",
        "\n",
        "---"
      ]
    },
    {
      "cell_type": "markdown",
      "metadata": {
        "id": "layL9aTK_D1a"
      },
      "source": [
        "Another slightly more advanced baseline is implemented in ParlAI: the information retrieval baseline (`ir_baseline`)\n",
        "\n",
        "---\n",
        "- **3.e.** Look at the [implementation](https://github.com/facebookresearch/ParlAI/blob/53ea58acf389bffc79c85c43bcdd848eecdcecb4/parlai/agents/ir_baseline/ir_baseline.py#L211) of the IR baseline and explain in a few lines how it works (*hint: look at the following methods `act()` `rank_candidates()`  `score_match()`*)  \n",
        "\n",
        "*ANSWER IN GOOGLE FORM*\n",
        "\n",
        "\n",
        "---"
      ]
    },
    {
      "cell_type": "markdown",
      "metadata": {
        "id": "oKo6zJHwksKA"
      },
      "source": [
        "- **3.f.** Use the IR baseline and compare its with one of your baselines (random and/or majority) on bAbI tasks 1, 2 and 3.  \n",
        "    (*hint: you can use `!python3 ... -t babi:task1-k:{i+1}` syntax to substitute the task number in a bash command from jupyter*)\n"
      ]
    },
    {
      "cell_type": "code",
      "execution_count": null,
      "metadata": {
        "id": "EzBAEWP7k10U"
      },
      "outputs": [],
      "source": [
        "# FILL THIS CELL\n",
        "for i in range(3):\n",
        "    print(f'~ Task {i+1} ~')\n",
        "    # FILL CODE HERE"
      ]
    },
    {
      "cell_type": "markdown",
      "metadata": {
        "id": "xZGFSbEwJdvx"
      },
      "source": [
        "## 4. More elaborate models\n",
        "\n"
      ]
    },
    {
      "cell_type": "markdown",
      "metadata": {
        "id": "wj7onBcoyoZz"
      },
      "source": [
        "We can now continue to more elaborate models and evaluate their performance in perspective to the baselines.\n",
        "We will use the `~/ParlAI/examples/train_model.py` script. Let's first get a glance at its arguments:"
      ]
    },
    {
      "cell_type": "code",
      "execution_count": null,
      "metadata": {
        "id": "gZa5Xl5Bxxxe"
      },
      "outputs": [],
      "source": [
        "!python3 ~/ParlAI/examples/train_model.py --help"
      ]
    },
    {
      "cell_type": "markdown",
      "metadata": {
        "id": "s2apZUNj6JrS"
      },
      "source": [
        "We can train two types of models:\n",
        "- **Generative models**: The model generates an answer from its vocabulary.\n",
        "- **Ranking models**: The model is given a list of possible answers and has to choose the correct answer. This is much easier for the model since the list of possible answers is often way smaller than the size of the vocabulary\n"
      ]
    },
    {
      "cell_type": "markdown",
      "metadata": {
        "id": "HdBwoP2K36DH"
      },
      "source": [
        "### Generative model: seq2seq with attention\n",
        "\n",
        "The generative model we are going to train is a sequence to sequence model with attention based on [Sustskever et al. 2014](https://arxiv.org/abs/1409.3215) and [Bahdanau et al. 2014](https://arxiv.org/abs/1409.0473).\n",
        "      \n",
        "- **4.a.** Briefly explain how attention works in sequence to sequence neural networks.\n",
        "- **4.b.** Do you think attention is useful for the babi tasks? How would you verify it experimentally?\n",
        "\n",
        "*ANSWER IN GOOGLE FORM*\n",
        "\n",
        "---\n",
        "- **4.c.** Train a seq2seq on bAbI task 1 (10k) and compare its results to the baselines.\n",
        "   (*hint: for faster training use the following arguments `--batchsize 32 --numthreads 1 --num-epochs 5 --hiddensize 64 --embeddingsize 64 --numlayers 1 --decoder shared`)\n"
      ]
    },
    {
      "cell_type": "code",
      "execution_count": null,
      "metadata": {
        "id": "VIpwQj4NpY5s"
      },
      "outputs": [],
      "source": [
        "# FILL THIS CELL"
      ]
    },
    {
      "cell_type": "code",
      "execution_count": null,
      "metadata": {
        "id": "OvxjgtEHTXFb"
      },
      "outputs": [],
      "source": [
        "!python3 ~/ParlAI/examples/display_model.py --task babi:task10k:1 --model seq2seq --model-file /tmp/babi_s2s"
      ]
    },
    {
      "cell_type": "markdown",
      "metadata": {
        "id": "DaX_GSktxrz1"
      },
      "source": [
        "### Ranking model: memory network\n",
        "\n",
        "We saw in the class that Memory Networks ([Sukhbaatar et al. 15'](https://papers.nips.cc/paper/5846-end-to-end-memory-networks.pdf)) rely on an explicit memory \"database\". this is especially adapted to tasks where a few useful memories are \"hidden\" among distractor memories.  \n",
        "These type of networks worktherefore  especially well for the bAbI tasks by turning the previous dialog turns as memories and the question as the query.  \n",
        "Here is an illustration of how a memory network work:\n",
        "\n",
        "![Memory Network schema](https://raw.githubusercontent.com/louismartin/ammi-2019-bordes-DeepNLP/master/lab1/memory_network.png)\n",
        "\n",
        "\n",
        "---\n",
        "**Question 4**  \n",
        "- **4.d.** Explain how hops work in a memory network (either with words or formulas using the notations of the above figure)\n",
        "- **4.e.** How can a memory network be used to rank multiple candidates?  \n",
        "  (*hint: you can look at the [implementation](https://github.com/facebookresearch/ParlAI/blob/6bd0e58692b3fd3a13b5f654944525ac1b7cd8e3/parlai/agents/memnn/modules.py#L22) of the memory network in ParlAI and especially the `_score()` method. Recall how the IR baseline worked.*)\n",
        "  \n",
        "*ANSWER IN GOOGLE FORM*\n",
        "  \n",
        " \n",
        "---"
      ]
    },
    {
      "cell_type": "markdown",
      "metadata": {
        "id": "YHICORdji1Cx"
      },
      "source": [
        "\n",
        "- **4.f.** Using the ParlAI implementation, train a memory network on bAbI tasks 1, 2 and 3 (10k) and compare its results with the baselines.  \n",
        "   (*hint: use a 1 thread, a batch size of 32 and 5 epochs*)\n"
      ]
    },
    {
      "cell_type": "code",
      "execution_count": null,
      "metadata": {
        "id": "iKeyD3UYsaFs"
      },
      "outputs": [],
      "source": [
        "# FILL CELL\n",
        "for i in range(3):\n",
        "    print(f'~ Task {i+1} ~')\n",
        "    # FILL CODE HERE"
      ]
    },
    {
      "cell_type": "markdown",
      "metadata": {
        "id": "DHH0Wy34o3_W"
      },
      "source": [
        "## 5. To go further"
      ]
    },
    {
      "cell_type": "markdown",
      "metadata": {
        "id": "zaNGupqLssUB"
      },
      "source": [
        "If you want to go further you can try to do the following:\n",
        "\n",
        "- Retrieve and plot the attention of the memory network for the different hops along the memories.\n",
        "- For the seq2seq model, can you plot the training loss? The validation loss? Both on the same plot?\n",
        "- Can you show an example of overfitting?\n",
        "- Adapt the seq2seq model for ranking using the [torch ranker tutorial](http://www.parl.ai/static/docs/tutorial_torch_ranker_agent.html)\n",
        "- Try multitasking babi and squad, does it improve the performance? (this will require more GPU power than what is available in google colab)\n",
        "- You can play around with other models and other tasks\n",
        "- Try interfacing ParlAI with [messenger](http://www.parl.ai/static/docs/tutorial_messenger.html )"
      ]
    }
  ],
  "metadata": {
    "accelerator": "TPU",
    "colab": {
      "collapsed_sections": [
        "N4UnbCdcqHPu"
      ],
      "provenance": []
    },
    "kernelspec": {
      "display_name": "Python 3.8.13 ('torch-nightly')",
      "language": "python",
      "name": "python3"
    },
    "language_info": {
      "codemirror_mode": {
        "name": "ipython",
        "version": 3
      },
      "file_extension": ".py",
      "mimetype": "text/x-python",
      "name": "python",
      "nbconvert_exporter": "python",
      "pygments_lexer": "ipython3",
      "version": "3.8.13"
    },
    "vscode": {
      "interpreter": {
        "hash": "4f39e6e04c9179031562c9c23c1e33c14c2586617faa455aa19efe4d0c29a04d"
      }
    }
  },
  "nbformat": 4,
  "nbformat_minor": 0
}
